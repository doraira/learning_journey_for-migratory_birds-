{
 "cells": [
  {
   "cell_type": "markdown",
   "id": "3e894d71-9bd6-4c8a-80d1-ef6eb95e57fa",
   "metadata": {},
   "source": [
    "# approach 1"
   ]
  },
  {
   "cell_type": "code",
   "execution_count": 27,
   "id": "2097aab8-2ae2-41c1-a02e-a00a05686977",
   "metadata": {},
   "outputs": [],
   "source": [
    "def migratoryBirds_naive(arr):\n",
    "    # Check for empty array first\n",
    "    if len(arr) == 0:\n",
    "        return \"Error: Empty bird sighting array provided\"\n",
    "    # Initialize separate variables for each bird type\n",
    "    count1 = 0\n",
    "    count2 = 0  \n",
    "    count3 = 0\n",
    "    count4 = 0\n",
    "    count5 = 0\n",
    "    \n",
    "    # Count frequencies using many conditionals\n",
    "    for bird in arr:\n",
    "        if bird == 1:\n",
    "            count1 += 1\n",
    "        elif bird == 2:\n",
    "            count2 += 1\n",
    "        elif bird == 3:\n",
    "            count3 += 1\n",
    "        elif bird == 4:\n",
    "            count4 += 1\n",
    "        elif bird == 5:\n",
    "            count5 += 1\n",
    "    \n",
    "    # Store counts in a list to find max\n",
    "    counts = [count1, count2, count3, count4, count5]\n",
    "    max_count = max(counts)\n",
    "    \n",
    "    # Find smallest type with max frequency\n",
    "    for i in range(5):\n",
    "        if counts[i] == max_count:\n",
    "            return i + 1  # +1 because we stored types 1-5 at indices 0-4"
   ]
  },
  {
   "cell_type": "code",
   "execution_count": 10,
   "id": "687b0c74-87d1-4c4a-bf70-91589efe7dce",
   "metadata": {},
   "outputs": [
    {
     "data": {
      "text/plain": [
       "4"
      ]
     },
     "execution_count": 10,
     "metadata": {},
     "output_type": "execute_result"
    }
   ],
   "source": [
    "migratoryBirds_naive([1, 4, 4, 4, 5, 3])"
   ]
  },
  {
   "cell_type": "markdown",
   "id": "05ad5c08-abf6-4977-8ac3-838b2287272c",
   "metadata": {},
   "source": [
    "# arr = [1, 4, 4, 4, 5, 3]\n",
    "# under the hood:\n",
    "# Step by step counting:\n",
    "\n",
    "bird=1 → count1=1\n",
    "\n",
    "bird=4 → count4=1  \n",
    "\n",
    "bird=4 → count4=2\n",
    "\n",
    "bird=4 → count4=3\n",
    "\n",
    "bird=5 → count5=1\n",
    "\n",
    "bird=3 → count3=1\n",
    "\n",
    "counts = [1, 0, 1, 3, 1]  # [count1, count2, count3, count4, count5]\n",
    "\n",
    "max_count = 3\n",
    "\n",
    "i=0: counts[0]=1 ≠ 3\n",
    "\n",
    "i=1: counts[1]=0 ≠ 3  \n",
    "\n",
    "i=2: counts[2]=1 ≠ 3\n",
    "\n",
    "i=3: counts[3]=3 == 3 → return 3+1 = 4 ✓\n"
   ]
  },
  {
   "cell_type": "code",
   "execution_count": 12,
   "id": "3cec01d0-975f-42e6-88b1-9219ca43e1f2",
   "metadata": {},
   "outputs": [
    {
     "data": {
      "text/plain": [
       "1"
      ]
     },
     "execution_count": 12,
     "metadata": {},
     "output_type": "execute_result"
    }
   ],
   "source": [
    "migratoryBirds_naive([1, 1, 2, 2, 3])"
   ]
  },
  {
   "cell_type": "markdown",
   "id": "f9f8c7b7-6e3e-4380-8cb6-a9193083a1ea",
   "metadata": {},
   "source": [
    "# arr = [1, 1, 2, 2, 3]\n",
    "# under the hood\n",
    "# Counting:\n",
    "bird=1 → count1=1\n",
    "\n",
    "bird=1 → count1=2\n",
    "\n",
    "bird=2 → count2=1\n",
    "\n",
    "bird=2 → count2=2  \n",
    "\n",
    "bird=3 → count3=1\n",
    "\n",
    "counts = [2, 2, 1, 0, 0]  # [count1, count2, count3, count4, count5]\n",
    "\n",
    "max_count = 2\n",
    "\n",
    "i=0: counts[0]=2 == 2 → return 0+1 = 1 ✓ (smallest ID)"
   ]
  },
  {
   "cell_type": "code",
   "execution_count": 14,
   "id": "168daa84-63c9-44e9-8902-26ff585230dd",
   "metadata": {},
   "outputs": [
    {
     "data": {
      "text/plain": [
       "3"
      ]
     },
     "execution_count": 14,
     "metadata": {},
     "output_type": "execute_result"
    }
   ],
   "source": [
    "migratoryBirds_naive([3, 3, 3, 3, 3])"
   ]
  },
  {
   "cell_type": "markdown",
   "id": "a0785158-8036-48d3-95b8-745fcbdd6953",
   "metadata": {},
   "source": [
    "# arr = [3, 3, 3, 3, 3]\n",
    "# under the hood \n",
    "# All birds are type 3\n",
    "bird=3 → count3=1\n",
    "\n",
    "bird=3 → count3=2\n",
    "\n",
    "bird=3 → count3=3\n",
    "\n",
    "bird=3 → count3=4\n",
    "\n",
    "bird=3 → count3=5\n",
    "\n",
    "counts = [0, 0, 5, 0, 0]  # [count1, count2, count3, count4, count5]\n",
    "\n",
    "max_count = 5\n",
    "\n",
    "i=0: 0≠5, i=1: 0≠5, i=2: 5==5 → return 2+1=3 ✓"
   ]
  },
  {
   "cell_type": "code",
   "execution_count": 28,
   "id": "d0726805-bb4c-4757-8b33-a7321278284e",
   "metadata": {},
   "outputs": [
    {
     "data": {
      "text/plain": [
       "5"
      ]
     },
     "execution_count": 28,
     "metadata": {},
     "output_type": "execute_result"
    }
   ],
   "source": [
    "migratoryBirds_naive([5])"
   ]
  },
  {
   "cell_type": "markdown",
   "id": "a30eb527-378f-411f-8a18-c0ff73a5a4ad",
   "metadata": {},
   "source": [
    "# arr = [5]\n",
    "# under the hood \n",
    "bird=5 → count5=1\n",
    "\n",
    "counts = [0, 0, 0, 0, 1]\n",
    "\n",
    "max_count = 1\n",
    "\n",
    "i=0:0≠1, i=1:0≠1, i=2:0≠1, i=3:0≠1, i=4:1==1 → return 4+1=5 ✓"
   ]
  },
  {
   "cell_type": "code",
   "execution_count": 20,
   "id": "c2ec8eea-146c-4221-993a-71efc713ff84",
   "metadata": {},
   "outputs": [
    {
     "data": {
      "text/plain": [
       "1"
      ]
     },
     "execution_count": 20,
     "metadata": {},
     "output_type": "execute_result"
    }
   ],
   "source": [
    "migratoryBirds_naive([1,2,3,4,5])"
   ]
  },
  {
   "cell_type": "markdown",
   "id": "8b832baa-3d27-4a55-a15e-eb33e86ba5f6",
   "metadata": {},
   "source": [
    "# Test Case 5: All Types Equally Frequent\n",
    "# Input: [1, 2, 3, 4, 5]\n",
    "\n",
    "# Each type appears once\n",
    "\n",
    "counts = [1, 1, 1, 1, 1]\n",
    "\n",
    "max_count = 1\n",
    "\n",
    "i=0: 1==1 → return 0+1=1 ✓ (smallest ID)"
   ]
  },
  {
   "cell_type": "markdown",
   "id": "ddccd492-12a5-452b-a55d-fe45140eaa67",
   "metadata": {},
   "source": [
    "# Test Case 7: Empty Array (Edge Case)\n",
    "# Input: []\n"
   ]
  },
  {
   "cell_type": "code",
   "execution_count": 29,
   "id": "d935e5dc-f781-4121-a420-99b6dd175be6",
   "metadata": {},
   "outputs": [
    {
     "data": {
      "text/plain": [
       "'Error: Empty bird sighting array provided'"
      ]
     },
     "execution_count": 29,
     "metadata": {},
     "output_type": "execute_result"
    }
   ],
   "source": [
    "migratoryBirds_naive([])"
   ]
  },
  {
   "cell_type": "markdown",
   "id": "b200ec1d-7182-4fbe-9d61-d979ec6fe582",
   "metadata": {},
   "source": [
    "# approach 2 "
   ]
  },
  {
   "cell_type": "code",
   "execution_count": null,
   "id": "aace4fa2-d89c-47e1-833f-937a4dab948f",
   "metadata": {},
   "outputs": [],
   "source": [
    "def migratoryBirds(arr):\n",
    "    \n",
    "    \n",
    "    count = [0] * 6\n",
    "    \n",
    "    for bird in arr:\n",
    "        count[bird] += 1\n",
    "    \n",
    "    max_count = max(count)\n",
    "    \n",
    "    for i in range(1, 6):\n",
    "        if count[i] == max_count:\n",
    "            return i"
   ]
  },
  {
   "cell_type": "code",
   "execution_count": 21,
   "id": "411ae08a-f7a0-4240-8bb0-e6d6df4b563a",
   "metadata": {},
   "outputs": [],
   "source": [
    "def migratoryBirds(arr):\n",
    "    # Check for empty array first\n",
    "    if len(arr) == 0:\n",
    "        return \"Error: Empty bird sighting array provided\"\n",
    "    count = [0] * 6  # PMF storage: indices 1-5 represent P(X=1) to P(X=5)\n",
    "    \n",
    "    # Empirical PMF calculation: f(k) = ∑ {arr[i] = k}\n",
    "    for current_bird_type in arr:  # For each element in the array, temporarily call it ' current_bird_type ', # bird is a reference, not a copy\n",
    "\n",
    "        count[current_bird_type] += 1  # Increment P(X=bird)\n",
    "    \n",
    "    max_count = max(count)  # Find max P(X=k)\n",
    "    \n",
    "    # Find min{k | P(X=k) = max_count}\n",
    "    for i in range(1, 6):\n",
    "        if count[i] == max_count:\n",
    "            return i\n"
   ]
  },
  {
   "cell_type": "code",
   "execution_count": 22,
   "id": "c4eba090-658a-4533-b4cb-559d2411dadb",
   "metadata": {},
   "outputs": [
    {
     "data": {
      "text/plain": [
       "4"
      ]
     },
     "execution_count": 22,
     "metadata": {},
     "output_type": "execute_result"
    }
   ],
   "source": [
    "migratoryBirds([1, 4, 4, 4, 5, 3])"
   ]
  },
  {
   "cell_type": "markdown",
   "id": "0ac654b1-b43a-4027-a29e-9d28152fd28e",
   "metadata": {},
   "source": [
    "#  arr = [1, 4, 4, 4, 5, 3]\n",
    "# under the hood\n",
    "\n",
    "count = [0, 0, 0, 0, 0, 0]\n",
    "\n",
    "# Processing:\n",
    "\n",
    "bird=1 → count[1]=1\n",
    "\n",
    "bird=4 → count[4]=1\n",
    "\n",
    "bird=4 → count[4]=2  \n",
    "\n",
    "bird=4 → count[4]=3\n",
    "\n",
    "bird=5 → count[5]=1\n",
    "\n",
    "bird=3 → count[3]=1\n",
    "\n",
    "count = [0, 1, 0, 1, 3, 1]\n",
    "\n",
    "max_count = 3\n",
    "\n",
    "i=1: count[1]=1 ≠ 3\n",
    "\n",
    "i=2: count[2]=0 ≠ 3\n",
    "\n",
    "i=3: count[3]=1 ≠ 3\n",
    "\n",
    "i=4: count[4]=3 == 3 → return 4 ✓\n"
   ]
  },
  {
   "cell_type": "code",
   "execution_count": 23,
   "id": "ffa76dc3-d4b2-4a6b-b3e2-e10f7bc02ff6",
   "metadata": {},
   "outputs": [
    {
     "data": {
      "text/plain": [
       "1"
      ]
     },
     "execution_count": 23,
     "metadata": {},
     "output_type": "execute_result"
    }
   ],
   "source": [
    "migratoryBirds([1, 1, 2, 2, 3])"
   ]
  },
  {
   "cell_type": "markdown",
   "id": "37c782c6-d46c-44b7-b4ce-997f9665ee2b",
   "metadata": {},
   "source": [
    "# arr = [1, 1, 2, 2, 3]\n",
    "# under the hood\n",
    "count = [0, 0, 0, 0, 0, 0]\n",
    "# Processing:\n",
    "bird=1 → count[1]=1\n",
    "\n",
    "bird=1 → count[1]=2\n",
    "\n",
    "bird=2 → count[2]=1  \n",
    "\n",
    "bird=2 → count[2]=2\n",
    "\n",
    "bird=3 → count[3]=1\n",
    "\n",
    "count = [0, 2, 2, 1, 0, 0]\n",
    "\n",
    "max_count = 2\n",
    "\n",
    "i=1: count[1]=2 == 2 → return 1 ✓ (smallest ID)"
   ]
  },
  {
   "cell_type": "code",
   "execution_count": 24,
   "id": "a4260bf0-4511-48eb-b7eb-578e7250ab4a",
   "metadata": {},
   "outputs": [
    {
     "data": {
      "text/plain": [
       "3"
      ]
     },
     "execution_count": 24,
     "metadata": {},
     "output_type": "execute_result"
    }
   ],
   "source": [
    "migratoryBirds([3, 3, 3, 3, 3])"
   ]
  },
  {
   "cell_type": "markdown",
   "id": "80d2b870-09c3-44a5-b607-4b6a164ac3dc",
   "metadata": {},
   "source": [
    "# arr = [3, 3, 3, 3, 3]\n",
    "# under the hood \n",
    "# All birds are type 3\n",
    "\n",
    "count = [0, 0, 0, 0, 0, 0]\n",
    "\n",
    "# All birds are type 3\n",
    "\n",
    "bird=3 → count[3]=1\n",
    "\n",
    "bird=3 → count[3]=2  \n",
    "\n",
    "bird=3 → count[3]=3\n",
    "\n",
    "bird=3 → count[3]=4\n",
    "\n",
    "bird=3 → count[3]=5\n",
    "\n",
    "count = [0, 0, 0, 5, 0, 0]\n",
    "\n",
    "max_count = 5\n",
    "\n",
    "i=1: 0≠5, i=2: 0≠5, i=3: 5==5 → return 3 ✓"
   ]
  },
  {
   "cell_type": "code",
   "execution_count": 25,
   "id": "58841352-6be7-49c8-a2f1-933e2def75ae",
   "metadata": {},
   "outputs": [
    {
     "data": {
      "text/plain": [
       "5"
      ]
     },
     "execution_count": 25,
     "metadata": {},
     "output_type": "execute_result"
    }
   ],
   "source": [
    "migratoryBirds([5])"
   ]
  },
  {
   "cell_type": "markdown",
   "id": "0170f2b1-f679-4f78-9165-6056e67e19ff",
   "metadata": {},
   "source": [
    "# arr = [5]\n",
    "# under the hood \n",
    "\n",
    "count = [0, 0, 0, 0, 0, 0]\n",
    "\n",
    "bird=5 → count[5]=1\n",
    "\n",
    "count = [0, 0, 0, 0, 0, 1]\n",
    "\n",
    "max_count = 1\n",
    "\n",
    "i=1:0≠1, i=2:0≠1, i=3:0≠1, i=4:0≠1, i=5:1==1 → return 5 ✓"
   ]
  },
  {
   "cell_type": "code",
   "execution_count": 26,
   "id": "c82ad67f-bb89-4fca-b037-9480849cdf49",
   "metadata": {},
   "outputs": [
    {
     "data": {
      "text/plain": [
       "1"
      ]
     },
     "execution_count": 26,
     "metadata": {},
     "output_type": "execute_result"
    }
   ],
   "source": [
    "migratoryBirds([1,2,3,4,5])"
   ]
  },
  {
   "cell_type": "markdown",
   "id": "8ce0bc2c-931a-496a-8b07-e676c8227ae7",
   "metadata": {},
   "source": [
    "# Test Case 5: All Types Equally Frequent\n",
    "# Input: [1, 2, 3, 4, 5]\n",
    "\n",
    "count = [0, 1, 1, 1, 1, 1]\n",
    "\n",
    "max_count = 1\n",
    "\n",
    "i=1: 1==1 → return 1 ✓ (smallest ID)"
   ]
  },
  {
   "cell_type": "markdown",
   "id": "8502a339-a655-484a-9b38-b9f81a87ab03",
   "metadata": {},
   "source": [
    "# Test Case 7: Empty Array (Edge Case)\n",
    "# Input: []\n"
   ]
  },
  {
   "cell_type": "code",
   "execution_count": 30,
   "id": "a1771892-dff2-4b95-aa0f-06ee056ffdaa",
   "metadata": {},
   "outputs": [
    {
     "data": {
      "text/plain": [
       "'Error: Empty bird sighting array provided'"
      ]
     },
     "execution_count": 30,
     "metadata": {},
     "output_type": "execute_result"
    }
   ],
   "source": [
    "migratoryBirds([])"
   ]
  },
  {
   "cell_type": "code",
   "execution_count": null,
   "id": "4c0dbe9a-36ae-4264-ae26-fc63be48d1c6",
   "metadata": {},
   "outputs": [],
   "source": []
  },
  {
   "cell_type": "code",
   "execution_count": null,
   "id": "f040de60-4f64-4a85-a5cf-3d953f9eb8b8",
   "metadata": {},
   "outputs": [],
   "source": []
  },
  {
   "cell_type": "code",
   "execution_count": null,
   "id": "ca4d554f-05f0-4a5c-a4b1-367f00058ca1",
   "metadata": {},
   "outputs": [],
   "source": []
  },
  {
   "cell_type": "code",
   "execution_count": null,
   "id": "a7134fbc-5135-4986-91d7-c67b445c1d97",
   "metadata": {},
   "outputs": [],
   "source": []
  },
  {
   "cell_type": "code",
   "execution_count": null,
   "id": "5e805d6d-f280-4dbd-9468-1bfbf89c0189",
   "metadata": {},
   "outputs": [],
   "source": []
  },
  {
   "cell_type": "code",
   "execution_count": null,
   "id": "0191cd91-eca6-4fd9-bb1a-912af37f0446",
   "metadata": {},
   "outputs": [],
   "source": []
  },
  {
   "cell_type": "code",
   "execution_count": null,
   "id": "6aea97bf-64a0-4ef5-8df8-e7cab328fce0",
   "metadata": {},
   "outputs": [],
   "source": []
  }
 ],
 "metadata": {
  "kernelspec": {
   "display_name": "Python 3 (ipykernel)",
   "language": "python",
   "name": "python3"
  },
  "language_info": {
   "codemirror_mode": {
    "name": "ipython",
    "version": 3
   },
   "file_extension": ".py",
   "mimetype": "text/x-python",
   "name": "python",
   "nbconvert_exporter": "python",
   "pygments_lexer": "ipython3",
   "version": "3.13.5"
  }
 },
 "nbformat": 4,
 "nbformat_minor": 5
}
